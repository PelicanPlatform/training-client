{
 "cells": [
  {
   "cell_type": "markdown",
   "id": "a0089d8a-122c-4e8c-9237-846b9e46dce1",
   "metadata": {},
   "source": [
    "# PelicanFS\n",
    "\n",
    "Pelican provides the Python package `pelicanfs`, which enables the transfer of objects via the `pelican://` protocol from inside of Python.\n",
    "For information on the implementation, see the Github repository at [github.com/pelicanplatform/pelicanfs](https://github.com/pelicanplatform/pelicanfs).\n",
    "\n",
    "The `pelicanfs` package can be installed via `pip`, i.e.,\n",
    "\n",
    "```bash\n",
    "python3 -m pip install pelicanfs\n",
    "```\n",
    "\n",
    "**The `pelicanfs` package comes pre-installed in the Guest OSPool Notebook!**\n",
    "\n",
    "## Manual import and setup\n",
    "\n",
    "The main method for using `pelicanfs` is to use the `PelicanFileSystem` class.\n",
    "First, import this from `pelicanfs` as follows:"
   ]
  },
  {
   "cell_type": "code",
   "execution_count": 1,
   "id": "a43719a5-a8d2-4297-8349-60105293d015",
   "metadata": {},
   "outputs": [],
   "source": [
    "from pelicanfs.core import PelicanFileSystem"
   ]
  },
  {
   "cell_type": "markdown",
   "id": "3ac4e876-66e3-4230-b7c3-ed281a45fcf1",
   "metadata": {},
   "source": [
    "Next, instantiate the an object of the class for a particular Federation.\n",
    "For this example, we'll continue using the OSDF Federation, which has the Federation URL of `osg-htc.org`:"
   ]
  },
  {
   "cell_type": "code",
   "execution_count": 2,
   "id": "5b71c352-635b-4c9b-abf7-4f7877d6a059",
   "metadata": {},
   "outputs": [],
   "source": [
    "pelfs = PelicanFileSystem('pelican://osg-htc.org')"
   ]
  },
  {
   "cell_type": "markdown",
   "id": "7f9cd231-c67d-4557-ac51-bbc8c3d94305",
   "metadata": {},
   "source": [
    "The `pelfs` object has methods for interacting with objects via the Federation.\n",
    "Usage typically looks like\n",
    "\n",
    "```python\n",
    "pelfs.<method>('<namespace_prefix>/<object_name>')\n",
    "```\n",
    "\n",
    "## Listing objects\n",
    "\n",
    "To list the objects associated with this namespace using `pelicanfs`, use the `ls` method of the `pelfs` object we instantiated above:"
   ]
  },
  {
   "cell_type": "code",
   "execution_count": 3,
   "id": "4b9ae178-d514-4688-97b4-cd74d450ef5d",
   "metadata": {},
   "outputs": [
    {
     "name": "stdout",
     "output_type": "stream",
     "text": [
      "[{'name': '/pelicanplatform/test/hello-world.txt', 'size': None, 'type': 'file'}, {'name': '/pelicanplatform/test/hello-world.txt.md5', 'size': None, 'type': 'file'}]\n"
     ]
    }
   ],
   "source": [
    "ls_results = pelfs.ls('/pelicanplatform/test')\n",
    "print(ls_results)"
   ]
  },
  {
   "cell_type": "code",
   "execution_count": 4,
   "id": "37de1759-496f-4fdd-adbf-a4e88e6fd816",
   "metadata": {},
   "outputs": [
    {
     "name": "stdout",
     "output_type": "stream",
     "text": [
      "['/pelicanplatform/test/hello-world.txt', '/pelicanplatform/test/hello-world.txt.md5']\n"
     ]
    }
   ],
   "source": [
    "print([i['name'] for i in ls_results])"
   ]
  },
  {
   "cell_type": "markdown",
   "id": "21052a57-53ce-46c5-b577-f779115565cb",
   "metadata": {},
   "source": [
    "## Getting objects\n",
    "\n",
    "Download an object using the `get` method."
   ]
  },
  {
   "cell_type": "code",
   "execution_count": 5,
   "id": "85f96786-3b98-407e-be99-1c8f89642944",
   "metadata": {},
   "outputs": [],
   "source": [
    "pelfs.get('/pelicanplatform/test/hello-world.txt', 'hello-world.txt')"
   ]
  },
  {
   "cell_type": "code",
   "execution_count": 6,
   "id": "67c1fcf1-248a-4c46-ad98-0f5d0367d788",
   "metadata": {},
   "outputs": [
    {
     "name": "stdout",
     "output_type": "stream",
     "text": [
      "If you are seeing this message, getting an object from OSDF was successful.\n",
      "\n"
     ]
    }
   ],
   "source": [
    "with open('hello-world.txt', 'r') as f:\n",
    "    my_file = f.read()\n",
    "\n",
    "print(my_file)"
   ]
  },
  {
   "cell_type": "markdown",
   "id": "3a4686bd-58f2-4b34-8919-5632c1b69547",
   "metadata": {},
   "source": [
    "You can combine the above steps using the `open` method of the `PelicanFileSystem` object:"
   ]
  },
  {
   "cell_type": "code",
   "execution_count": 7,
   "id": "cef35e97-a0df-402f-8247-2efb248ec504",
   "metadata": {},
   "outputs": [
    {
     "name": "stdout",
     "output_type": "stream",
     "text": [
      "If you are seeing this message, getting an object from OSDF was successful.\n",
      "\n"
     ]
    }
   ],
   "source": [
    "with pelfs.open('/pelicanplatform/test/hello-world.txt', 'r') as f:\n",
    "    direct_read = f.read()\n",
    "\n",
    "print(direct_read)"
   ]
  },
  {
   "cell_type": "markdown",
   "id": "d39aab03-ec93-4fce-90b3-cf0abae621e3",
   "metadata": {},
   "source": [
    "## Automated use of PelicanFS\n",
    "\n",
    "Many Python packages work with `fsspec` automatically, which in turn means that they can work with `pelicanfs` automatically.\n",
    "That means that you don't necessarily have to manually invoke `pelicanfs` to use it!\n",
    "\n",
    "The included script `autoload.py` does just this:"
   ]
  },
  {
   "cell_type": "code",
   "execution_count": 8,
   "id": "8a10b588-12c9-407c-8ac5-bfcc59e3d605",
   "metadata": {},
   "outputs": [
    {
     "name": "stdout",
     "output_type": "stream",
     "text": [
      "import pandas as pd\n",
      "\n",
      "station_URL='osdf:///aws-opendata/us-east-1/noaa-ghcn-pds/csv/by_station/USW00014837.csv'\n",
      "\n",
      "station_df = pd.read_csv(station_URL, low_memory=False)\n",
      "print(station_df.head())\n",
      "\n"
     ]
    }
   ],
   "source": [
    "%%bash\n",
    "cat autoload.py"
   ]
  },
  {
   "cell_type": "code",
   "execution_count": 9,
   "id": "79a46d8f-ffe6-41b4-b139-89cf77048250",
   "metadata": {},
   "outputs": [
    {
     "name": "stdout",
     "output_type": "stream",
     "text": [
      "            ID      DATE ELEMENT  DATA_VALUE M_FLAG Q_FLAG S_FLAG  OBS_TIME\n",
      "0  USW00014837  19391001    TMAX         194    NaN    NaN      X       NaN\n",
      "1  USW00014837  19391002    TMAX         211    NaN    NaN      X       NaN\n",
      "2  USW00014837  19391003    TMAX         233    NaN    NaN      X       NaN\n",
      "3  USW00014837  19391004    TMAX         272    NaN    NaN      X       NaN\n",
      "4  USW00014837  19391005    TMAX         211    NaN    NaN      X       NaN\n"
     ]
    }
   ],
   "source": [
    "%%bash\n",
    "python3 ./autoload.py"
   ]
  }
 ],
 "metadata": {
  "kernelspec": {
   "display_name": "Python [conda env:base] *",
   "language": "python",
   "name": "conda-base-py"
  },
  "language_info": {
   "codemirror_mode": {
    "name": "ipython",
    "version": 3
   },
   "file_extension": ".py",
   "mimetype": "text/x-python",
   "name": "python",
   "nbconvert_exporter": "python",
   "pygments_lexer": "ipython3",
   "version": "3.12.8"
  }
 },
 "nbformat": 4,
 "nbformat_minor": 5
}
