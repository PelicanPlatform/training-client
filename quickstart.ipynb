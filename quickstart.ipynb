{
 "cells": [
  {
   "cell_type": "markdown",
   "id": "0a36bade-5183-4bf3-ac45-a05c2ad6a0a3",
   "metadata": {},
   "source": [
    "# Quickstart\n",
    "\n",
    "* Go to [osg-htc.org/services/osdf/data](http://osg-htc.org/services/osdf/data) and browse the connected repositories.\n",
    "* Click on the row for one of the repositories (the example included here is the \"RouteViews\" repository).\n",
    "* In the pop-up view, look for the \"Download a Public Object\" section.\n",
    "* Copy the command listed; it will look like this:\n",
    "\n",
    "  ```\n",
    "  pelican object get osdf:///routeviews/chicago/route-views.chicago/bgpdata/2025.03/RIBS/rib.20250319.0400.bz2 ./\n",
    "  ```\n",
    "  <br>\n",
    "* Run the command in the OSPool Notebook interface.\n",
    "* Confirm that the file was downloaded.\n",
    "\n",
    "Alternatively, run the cells below:"
   ]
  },
  {
   "cell_type": "code",
   "execution_count": 1,
   "id": "54dba74f-c628-4741-939d-746cd27eebc9",
   "metadata": {},
   "outputs": [
    {
     "name": "stdout",
     "output_type": "stream",
     "text": [
      "rib.20250319.0400.bz2 43.09 MiB / 72.45 MiB [===========>--------] 0s ] 0.00 b/s\n",
      "\u001b[1A\u001b[Jrib.20250319.0400.bz2 43.09 MiB / 72.45 MiB [===========>--------] 0s ] 0.00 b/s\n",
      "\u001b[1A\u001b[Jrib.20250319.0400.bz2 43.09 MiB / 72.45 MiB [===========>--------] 0s ] 0.00 b/s\n",
      "\u001b[1A\u001b[Jrib.20250319.0400.bz2 72.45 MiB / 72.45 MiB [============================] Done!\n",
      "\u001b[1A\u001b[Jrib.20250319.0400.bz2 72.45 MiB / 72.45 MiB [============================] Done!\n",
      "\u001b[1A\u001b[J\n"
     ]
    }
   ],
   "source": [
    "pelican object get osdf:///routeviews/chicago/route-views.chicago/bgpdata/2025.03/RIBS/rib.20250319.0400.bz2 ./"
   ]
  },
  {
   "cell_type": "code",
   "execution_count": 2,
   "id": "8a22f7bc-709f-40a2-ad57-1c0085f96f08",
   "metadata": {},
   "outputs": [
    {
     "name": "stdout",
     "output_type": "stream",
     "text": [
      "-rw-r--r-- 1 jovyan users 73M Jun  4 14:07 rib.20250319.0400.bz2\n"
     ]
    }
   ],
   "source": [
    "ls -lh rib.20250319.0400.bz2"
   ]
  }
 ],
 "metadata": {
  "kernelspec": {
   "display_name": "Bash [conda env:base] *",
   "language": "bash",
   "name": "conda-base-bash"
  },
  "language_info": {
   "codemirror_mode": "shell",
   "file_extension": ".sh",
   "mimetype": "text/x-sh",
   "name": "bash"
  }
 },
 "nbformat": 4,
 "nbformat_minor": 5
}
