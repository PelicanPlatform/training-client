{
 "cells": [
  {
   "cell_type": "markdown",
   "id": "13ef5157-108b-41f8-9a91-35bace9cc2aa",
   "metadata": {},
   "source": [
    "# Pelican CLI\n",
    "\n",
    "To install the Pelican CLI on your own device, follow the instructions at [docs.pelicanplatform.org/install](https://docs.pelicanplatform.org/install) for your operating system. If you are using a Linux operating system, you can quickly install the Pelican CLI following the [instructions here](https://docs.pelicanplatform.org/install/linux-binary).\n",
    "\n",
    "The Guest OSPool Notebook comes with the Pelican CLI pre-installed.\n",
    "For exercises involving authentication, **you must use the OSPool notebook!**\n",
    "\n",
    "Once installed, you can use the Pelican CLI by using the `pelican` noun-verb commands.\n",
    "For the requests listed above, you need to use the `object` noun.\n",
    "That is, the commands you'll be entering will take the form\n",
    "\n",
    "```\n",
    "pelican object <request> <additonal arguments>\n",
    "```\n",
    "\n",
    "where the `additional arguments` usually involves a Pelican URL."
   ]
  },
  {
   "cell_type": "markdown",
   "id": "9363a31f-7e70-42f1-b45a-c11739601491",
   "metadata": {},
   "source": [
    "## Listing objects\n",
    "\n",
    "To list the objects accessible via a particular namespace, use the `ls` verb and provide the Pelican URL for the desired namespace:\n",
    "\n",
    "```\n",
    "pelican object ls <Pelican URL>\n",
    "```"
   ]
  },
  {
   "cell_type": "code",
   "execution_count": 1,
   "id": "def7b00d-5642-41f8-9f37-95d4d2ab6e55",
   "metadata": {},
   "outputs": [
    {
     "name": "stdout",
     "output_type": "stream",
     "text": [
      "hello-world.txt.md5          hello-world.txt          \n"
     ]
    }
   ],
   "source": [
    "pelican object ls osdf:///pelicanplatform/test"
   ]
  },
  {
   "cell_type": "markdown",
   "id": "cd326c26-4acf-4014-92df-365278ba57c0",
   "metadata": {},
   "source": [
    "For additional information, you include the `-l`/`--long` flag:"
   ]
  },
  {
   "cell_type": "code",
   "execution_count": 2,
   "id": "78dd8071-4de6-42d9-bd17-d13bc8b5b332",
   "metadata": {},
   "outputs": [
    {
     "name": "stdout",
     "output_type": "stream",
     "text": [
      "/pelicanplatform/test/hello-world.txt.md5          50          2025-01-21 20:59:49\n",
      "/pelicanplatform/test/hello-world.txt              76          2025-01-21 20:57:01\n"
     ]
    }
   ],
   "source": [
    "pelican object ls --long osdf:///pelicanplatform/test"
   ]
  },
  {
   "cell_type": "markdown",
   "id": "cd458a36-dfb0-47b1-8132-67de93ea45f2",
   "metadata": {},
   "source": [
    "## Getting objects\n",
    "\n",
    "To get an object using the Pelican CLI, you need to provide the Pelican URL for the desired object and the location/name of where to store the object locally:\n",
    "\n",
    "```\n",
    "pelican object get <Pelican URL> <local destination>\n",
    "```\n",
    "\n",
    "In the listing of the Pelican test namespace, we saw the object `hello-world.txt`. \n",
    "Let's download that object to the current directory:"
   ]
  },
  {
   "cell_type": "code",
   "execution_count": 3,
   "id": "e91cc71c-8cfc-4fa0-9949-8686c5f09d6b",
   "metadata": {},
   "outputs": [],
   "source": [
    "pelican object get osdf:///pelicanplatform/test/hello-world.txt ./hello-world.txt"
   ]
  },
  {
   "cell_type": "code",
   "execution_count": 4,
   "id": "0c9ab35d-40ce-4889-8026-e90cba73ac74",
   "metadata": {},
   "outputs": [
    {
     "name": "stdout",
     "output_type": "stream",
     "text": [
      "If you are seeing this message, getting an object from OSDF was successful.\n"
     ]
    }
   ],
   "source": [
    "cat hello-world.txt"
   ]
  },
  {
   "cell_type": "markdown",
   "id": "ff462a87-2de3-4125-9e39-f4e3432073f1",
   "metadata": {},
   "source": [
    "### Getting objects recursively\n",
    "\n",
    "Pelican provides a \"recursive\" option for getting objects.\n",
    "There are two ways of invoking this option.\n",
    "\n",
    "First, you can pass the `-r` or `--recursive` flag to your `get` command:"
   ]
  },
  {
   "cell_type": "code",
   "execution_count": 5,
   "id": "779ccb4b-d27b-48e2-a367-6d482c42e943",
   "metadata": {},
   "outputs": [],
   "source": [
    "pelican object get --recursive osdf:///pelicanplatform/test ./test"
   ]
  },
  {
   "cell_type": "code",
   "execution_count": 6,
   "id": "8835b74d-629b-4907-b320-72e91d9f50f1",
   "metadata": {},
   "outputs": [
    {
     "name": "stdout",
     "output_type": "stream",
     "text": [
      "hello-world.txt  hello-world.txt.md5\n"
     ]
    }
   ],
   "source": [
    "ls test"
   ]
  },
  {
   "attachments": {},
   "cell_type": "markdown",
   "id": "f6cd2674-4d0b-4d9b-8bff-8f1c636a80a6",
   "metadata": {},
   "source": [
    "Second, you can use the URL query syntax in Pelican URLs to modify its behavior.\n",
    "For this case, you can use the `?recursive` query to tell Pelican to act recursively on the provided Pelican URL.\n",
    "For example,\n",
    "\n",
    "```\n",
    "pelican object get osdf:///pelicanplatform/test?recursive ./\n",
    "```\n",
    "\n",
    "will do the exact same thing as using the `--recursive` option.\n",
    "\n",
    "> Another frequently used query is `?pack=auto`.\n",
    "> When getting a compressed object, this query tells the Pelican Client to automatically decompress the object during download.\n",
    "> Similarly, when uploading an object, the query tells the Pelican Client to automatically compress the object during upload.\n",
    "> For more information on the queries that Pelican employs, see [this documentation page](https://docs.pelicanplatform.org/getting-data-with-pelican/client#utilizing-queries-with-your-url)."
   ]
  },
  {
   "cell_type": "markdown",
   "id": "d306e46f-d7e5-4d0e-9209-235d29fc4968",
   "metadata": {},
   "source": [
    "## Putting objects\n",
    "\n",
    "You can also use the Pelican CLI to \"put\" or upload an object to a data store connected to a Pelican Federation.\n",
    "The syntax for the command is similar to the `get` command:\n",
    "\n",
    "```\n",
    "pelican object put <local object> <Pelican URL destination>\n",
    "```\n",
    "\n",
    "For this example, we'll upload data to the object storage connected via the `osdf:///osdf-tutorial/protected` namespace."
   ]
  },
  {
   "cell_type": "markdown",
   "id": "e0555a82-4860-4676-9de8-682491c473a8",
   "metadata": {},
   "source": [
    "**If you are executing commands via the included Jupyter notebook, you must do the following!**\n",
    "\n",
    "1. In the OSPool Notebook, open a \"Terminal\" tab.\n",
    "2. Run the following command:\n",
    "\n",
    "```\n",
    "pelican credentials reset-password\n",
    "```\n",
    "\n",
    "3. When prompted for a new password, skip entering a password and hit enter."
   ]
  },
  {
   "cell_type": "markdown",
   "id": "796e8bef-fcab-4c21-9d27-7dd4f6d3f014",
   "metadata": {},
   "source": [
    "To see this command in action, we'll upload the `hello-world.txt` file from earlier under a new, unique name.\n",
    "Set the unique name using the following:"
   ]
  },
  {
   "cell_type": "code",
   "execution_count": 7,
   "id": "2b4a557e-8c64-4c78-a02f-02d7b7fce56d",
   "metadata": {},
   "outputs": [],
   "source": [
    "# Change this to be a unique identifier!!\n",
    "#my_inits=\"firstname.lastname\"\n",
    "my_inits=\"pearc.test\""
   ]
  },
  {
   "cell_type": "markdown",
   "id": "a59eab3e-73a9-42c2-9367-3d6ef06521c5",
   "metadata": {},
   "source": [
    "then upload the file using"
   ]
  },
  {
   "cell_type": "code",
   "execution_count": 8,
   "id": "da3a2a38-23d7-4c34-ad09-f34688222846",
   "metadata": {},
   "outputs": [
    {
     "name": "stdout",
     "output_type": "stream",
     "text": [
      "WARNING: empty password provided; the credentials will be saved unencrypted on disk\n",
      "To approve credentials for this operation, please navigate to the following URL and approve the request:\n",
      "\n",
      "https://tutorial-origin.svc.osg-htc.org/api/v1.0/issuer/device?user_code=734_385_4F6\n",
      "WARNING: empty password provided; the credentials will be saved unencrypted on disk\n"
     ]
    }
   ],
   "source": [
    "pelican object put hello-world.txt osdf:///osdf-tutorial/protected/${my_inits}.txt"
   ]
  },
  {
   "cell_type": "markdown",
   "id": "5c71d042-903a-455c-89aa-0365732c3d92",
   "metadata": {},
   "source": [
    "You'll be prompted to authenticate the action with a message that looks like this:\n",
    "\n",
    "```\n",
    "To approve credentials for this operation, please navigate to the following URL and approve the request:\n",
    "\n",
    "https://tutorial-origin.svc.osg-htc.org/api/v1.0/issuer/device?user_code=EXA_3DB_285\n",
    "```\n",
    "\n",
    "Open **your unique link** in a new browser tab and sign-in the same way that you signed in to the OSPool Notebook.\n",
    "Once confirmed, close the tab and return to the notebook, where you should see that the command completed successfully.\n",
    "\n",
    "The uploaded object is now available via the `osdf:///osdf-tutorial/protected`.\n",
    "You can confirm this by running"
   ]
  },
  {
   "cell_type": "code",
   "execution_count": 9,
   "id": "da3ec9e0-dfe3-44fd-ad77-1a9fc92bae3f",
   "metadata": {},
   "outputs": [
    {
     "name": "stdout",
     "output_type": "stream",
     "text": [
      "To approve credentials for this operation, please navigate to the following URL and approve the request:\n",
      "\n",
      "https://tutorial-origin.svc.osg-htc.org/api/v1.0/issuer/device?user_code=0CD_D42_9CX\n",
      "WARNING: empty password provided; the credentials will be saved unencrypted on disk\n",
      "pearc.test.txt          \n"
     ]
    }
   ],
   "source": [
    "pelican object ls osdf:///osdf-tutorial/protected/${my_inits}.txt"
   ]
  },
  {
   "cell_type": "markdown",
   "id": "a78a6bba-6965-4e5a-94c6-e5f0567b71c9",
   "metadata": {},
   "source": [
    "and, optionally, you can can re-download the object using"
   ]
  },
  {
   "cell_type": "code",
   "execution_count": 10,
   "id": "9bfe987b-340c-4f66-8831-40ae41a7ef3d",
   "metadata": {
    "scrolled": true
   },
   "outputs": [
    {
     "name": "stdout",
     "output_type": "stream",
     "text": [
      "pearc.test.txt 0.00 b / 0.00 b [---------------------------------] 0s ] 0.00 b/s\n",
      "\u001b[1A\u001b[Jpearc.test.txt 0.00 b / 0.00 b [---------------------------------] 0s ] 0.00 b/s\n",
      "\u001b[1A\u001b[Jpearc.test.txt 0.00 b / 0.00 b [---------------------------------] 0s ] 0.00 b/s\n",
      "\u001b[1A\u001b[Jpearc.test.txt 0.00 b / 0.00 b [---------------------------------] 0s ] 0.00 b/s\n",
      "\u001b[1A\u001b[Jpearc.test.txt 0.00 b / 76.00 b [--------------------------------] 0s ] 0.00 b/s\n",
      "\u001b[1A\u001b[Jpearc.test.txt 0.00 b / 76.00 b [--------------------------------] 0s ] 0.00 b/s\n",
      "\u001b[1A\u001b[Jpearc.test.txt 0.00 b / 76.00 b [--------------------------------] 0s ] 0.00 b/s\n",
      "\u001b[1A\u001b[J\n"
     ]
    }
   ],
   "source": [
    "pelican object get osdf:///osdf-tutorial/protected/${my_inits}.txt ./${my_inits}.txt"
   ]
  },
  {
   "cell_type": "markdown",
   "id": "ffa3e8e2-d3e6-4777-bed8-b679d9c01fa3",
   "metadata": {},
   "source": [
    "Note that these actions also require authentication, as implied by the use of `protected` in the namespace prefix.\n",
    "But the Client will remember your recent authentication for this namespace, so you shouldn't need to login each time you interact with the same protected namespace."
   ]
  },
  {
   "cell_type": "markdown",
   "id": "079ce396-43b4-4e38-8bc7-0b8ed6e807d6",
   "metadata": {},
   "source": [
    "## [Optional] A peak behind the curtain\n",
    "\n",
    "If you want to see what using the `pelican` protocol looks like in terms of the HTTP requests, you can run any of the above CLI commands with the `-d` or `--debug` flag.\n",
    "For example,"
   ]
  },
  {
   "cell_type": "code",
   "execution_count": 11,
   "id": "d6f67510-c5eb-4c52-b3c0-048bfb7e7353",
   "metadata": {
    "scrolled": true
   },
   "outputs": [
    {
     "name": "stdout",
     "output_type": "stream",
     "text": [
      "\u001b[33mWARNING\u001b[0m[2025-07-15T19:46:53Z] Debug is set as a flag or in config, this will override anything set for Logging.Level within your configuration \n",
      "================ Pelican Client Configuration ================\n",
      " {\n",
      "  \"client\": {\n",
      "    \"disablehttpproxy\": false,\n",
      "    \"disableproxyfallback\": false,\n",
      "    \"maximumdownloadspeed\": 0,\n",
      "    \"minimumdownloadspeed\": 102400,\n",
      "    \"slowtransferrampuptime\": 100000000000,\n",
      "    \"slowtransferwindow\": 30000000000,\n",
      "    \"stoppedtransfertimeout\": 100000000000,\n",
      "    \"workercount\": 5\n",
      "  },\n",
      "  \"configlocations\": null,\n",
      "  \"debug\": true,\n",
      "  \"disablehttpproxy\": false,\n",
      "  \"disableproxyfallback\": false,\n",
      "  \"federation\": {\n",
      "    \"directorurl\": \"\",\n",
      "    \"discoveryurl\": \"\",\n",
      "    \"jwkurl\": \"\",\n",
      "    \"registryurl\": \"\"\n",
      "  },\n",
      "  \"issuerkey\": \"/home/jovyan/.config/pelican/issuer.jwk\",\n",
      "  \"logging\": {\n",
      "    \"level\": \"Error\",\n",
      "    \"loglocation\": \"\"\n",
      "  },\n",
      "  \"minimumdownloadspeed\": 0,\n",
      "  \"server\": {\n",
      "    \"enablepprof\": false,\n",
      "    \"modules\": [],\n",
      "    \"uiloginratelimit\": 1,\n",
      "    \"webconfigfile\": \"\"\n",
      "  },\n",
      "  \"transport\": {\n",
      "    \"dialerkeepalive\": 30000000000,\n",
      "    \"dialertimeout\": 10000000000,\n",
      "    \"expectcontinuetimeout\": 1000000000,\n",
      "    \"idleconntimeout\": 90000000000,\n",
      "    \"maxidleconns\": 30,\n",
      "    \"responseheadertimeout\": 10000000000,\n",
      "    \"tlshandshaketimeout\": 15000000000\n",
      "  }\n",
      "} \n",
      " ============= End of Pelican Client Configuration ============\n",
      "\u001b[37mDEBUG\u001b[0m[2025-07-15T19:46:53Z] Launch progress bars display                 \n",
      "\u001b[37mDEBUG\u001b[0m[2025-07-15T19:46:53Z] Len of source: 2                             \n",
      "\u001b[37mDEBUG\u001b[0m[2025-07-15T19:46:53Z] Sources: [osdf:///pelicanplatform/test/hello-world.txt] \n",
      "\u001b[37mDEBUG\u001b[0m[2025-07-15T19:46:53Z] Destination: ./                              \n",
      "\u001b[37mDEBUG\u001b[0m[2025-07-15T19:46:53Z] Making new clients                           \n",
      "\u001b[37mDEBUG\u001b[0m[2025-07-15T19:46:53Z] Created new client 01980fa0-302c-762e-99bc-2ba4a664657a \n",
      "\u001b[37mDEBUG\u001b[0m[2025-07-15T19:46:53Z] Performing federation service discovery for against https://osg-htc.org/.well-known/pelican-configuration \n",
      "\u001b[37mDEBUG\u001b[0m[2025-07-15T19:46:53Z] Federation service discovery resulted in director URL https://osdf-director.osg-htc.org \n",
      "\u001b[37mDEBUG\u001b[0m[2025-07-15T19:46:53Z] Federation service discovery resulted in registry URL https://osdf-registry.osg-htc.org \n",
      "\u001b[37mDEBUG\u001b[0m[2025-07-15T19:46:53Z] Federation service discovery resulted in JWKS URL https://osg-htc.org/osdf/public_signing_key.jwks \n",
      "\u001b[37mDEBUG\u001b[0m[2025-07-15T19:46:53Z] Federation service discovery resulted in broker URL  \n",
      "\u001b[37mDEBUG\u001b[0m[2025-07-15T19:46:53Z] Using cached federation info for https://osg-htc.org \n",
      "\u001b[37mDEBUG\u001b[0m[2025-07-15T19:46:53Z] Will query director at https://osdf-director.osg-htc.org for object /pelicanplatform/test/hello-world.txt \n",
      "\u001b[37mDEBUG\u001b[0m[2025-07-15T19:46:53Z] Namespace path constructed from Director: /pelicanplatform \n",
      "\u001b[37mDEBUG\u001b[0m[2025-07-15T19:46:53Z] Created new transfer job, ID 01980fa0-302c-7709-8ebe-9f944edfac52 client 01980fa0-302c-762e-99bc-2ba4a664657a, for URL osdf:///pelicanplatform/test/hello-world.txt \n",
      "\u001b[37mDEBUG\u001b[0m[2025-07-15T19:46:53Z] Submiting transfer job 01980fa0-302c-7709-8ebe-9f944edfac52 \n",
      "\u001b[37mDEBUG\u001b[0m[2025-07-15T19:46:53Z] Closing transfer client 01980fa0-302c-762e-99bc-2ba4a664657a \n",
      "\u001b[37mDEBUG\u001b[0m[2025-07-15T19:46:53Z] Processing transfer job for URL osdf:///pelicanplatform/test/hello-world.txt \n",
      "\u001b[37mDEBUG\u001b[0m[2025-07-15T19:46:53Z] Using the returned sources from the director \n",
      "\u001b[37mDEBUG\u001b[0m[2025-07-15T19:46:53Z] Matched object servers: https://osdf-uw-cache.svc.osg-htc.org:8443, https://osdf1.chic.nrp.internet2.edu:8443, https://dtn-pas.kans.nrp.internet2.edu:8443, https://unl-cache.nationalresearchplatform.org:8443, https://dtn-pas.denv.nrp.internet2.edu:8443, https://ncar-cache.nationalresearchplatform.org:8443 \n",
      "\u001b[37mDEBUG\u001b[0m[2025-07-15T19:46:53Z] Trying the first 3 object servers            \n",
      "\u001b[37mDEBUG\u001b[0m[2025-07-15T19:46:53Z] Trying the object servers: [https://osdf-uw-cache.svc.osg-htc.org:8443/pelicanplatform/test/hello-world.txt https://osdf1.chic.nrp.internet2.edu:8443/pelicanplatform/test/hello-world.txt https://dtn-pas.kans.nrp.internet2.edu:8443/pelicanplatform/test/hello-world.txt] \n",
      "\u001b[37mDEBUG\u001b[0m[2025-07-15T19:46:53Z] Downloading object from osdf:///pelicanplatform/test/hello-world.txt to /home/jovyan/pelican-training-client/hello-world.txt \n",
      "\u001b[37mDEBUG\u001b[0m[2025-07-15T19:46:53Z] Will query the following endpoints for availability: osdf-uw-cache.svc.osg-htc.org:8443, osdf1.chic.nrp.internet2.edu:8443, dtn-pas.kans.nrp.internet2.edu:8443 \n",
      "\u001b[37mDEBUG\u001b[0m[2025-07-15T19:46:53Z] First available cache (osdf-uw-cache.svc.osg-htc.org:8443) responded; will ignore remaining attempts \n",
      "\u001b[37mDEBUG\u001b[0m[2025-07-15T19:46:53Z] Attempting to download from: osdf-uw-cache.svc.osg-htc.org:8443  \u001b[37mjob\u001b[0m=01980fa0-302c-7709-8ebe-9f944edfac52 \u001b[37murl\u001b[0m=\"https://osdf-uw-cache.svc.osg-htc.org:8443/pelicanplatform/test/hello-world.txt\"\n",
      "\u001b[37mDEBUG\u001b[0m[2025-07-15T19:46:53Z] Transfer URL String: https://osdf-uw-cache.svc.osg-htc.org:8443/pelicanplatform/test/hello-world.txt  \u001b[37mjob\u001b[0m=01980fa0-302c-7709-8ebe-9f944edfac52 \u001b[37murl\u001b[0m=\"https://osdf-uw-cache.svc.osg-htc.org:8443/pelicanplatform/test/hello-world.txt\"\n",
      "\u001b[37mDEBUG\u001b[0m[2025-07-15T19:46:53Z] Starting the HTTP transfer...                 \u001b[37mjob\u001b[0m=01980fa0-302c-7709-8ebe-9f944edfac52 \u001b[37murl\u001b[0m=\"https://osdf-uw-cache.svc.osg-htc.org:8443/pelicanplatform/test/hello-world.txt\"\n",
      "\u001b[37mDEBUG\u001b[0m[2025-07-15T19:46:53Z] Server at osdf-uw-cache.svc.osg-htc.org:8443 had a cache hit with data age 122h5m55s  \u001b[37mjob\u001b[0m=01980fa0-302c-7709-8ebe-9f944edfac52 \u001b[37murl\u001b[0m=\"https://osdf-uw-cache.svc.osg-htc.org:8443/pelicanplatform/test/hello-world.txt\"\n",
      "\u001b[37mDEBUG\u001b[0m[2025-07-15T19:46:53Z] Stopped transfer timeout is 1m40s; slow transfer ramp-up is 1m40s; slow transfer look-back window is 30s  \u001b[37mjob\u001b[0m=01980fa0-302c-7709-8ebe-9f944edfac52 \u001b[37murl\u001b[0m=\"https://osdf-uw-cache.svc.osg-htc.org:8443/pelicanplatform/test/hello-world.txt\"\n",
      "\u001b[37mDEBUG\u001b[0m[2025-07-15T19:46:53Z] HTTP Transfer was successful                  \u001b[37mjob\u001b[0m=01980fa0-302c-7709-8ebe-9f944edfac52 \u001b[37murl\u001b[0m=\"https://osdf-uw-cache.svc.osg-htc.org:8443/pelicanplatform/test/hello-world.txt\"\n",
      "\u001b[37mDEBUG\u001b[0m[2025-07-15T19:46:53Z] Downloaded bytes: 76                          \u001b[37mjob\u001b[0m=01980fa0-302c-7709-8ebe-9f944edfac52 \u001b[37murl\u001b[0m=\"https://osdf-uw-cache.svc.osg-htc.org:8443/pelicanplatform/test/hello-world.txt\"\n",
      "\u001b[37mDEBUG\u001b[0m[2025-07-15T19:46:53Z] Job 01980fa0-302c-7709-8ebe-9f944edfac52 is done for client 01980fa0-302c-762e-99bc-2ba4a664657a which has no active jobs remaining \n",
      "\u001b[37mDEBUG\u001b[0m[2025-07-15T19:46:53Z] Client 01980fa0-302c-762e-99bc-2ba4a664657a has no more work and is finished shutting down \n",
      "\u001b[37mDEBUG\u001b[0m[2025-07-15T19:46:53Z] Shutting down transfer engine                \n",
      "\u001b[37mDEBUG\u001b[0m[2025-07-15T19:46:53Z] Job handler has been shutdown                \n"
     ]
    }
   ],
   "source": [
    "pelican object get --debug osdf:///pelicanplatform/test/hello-world.txt ./"
   ]
  },
  {
   "cell_type": "markdown",
   "id": "f8e9119f-c23f-4ea9-b2f2-6b1919457198",
   "metadata": {},
   "source": [
    "For insight into the HTTP queries being made by the Client, see [the FAQ page](https://docs.pelicanplatform.org/faq#how-can-i-tell-what-services-my-pelican-client-will-talk-to-before-i-try-to-getput-objects). "
   ]
  }
 ],
 "metadata": {
  "kernelspec": {
   "display_name": "Bash [conda env:base] *",
   "language": "bash",
   "name": "conda-base-bash"
  },
  "language_info": {
   "codemirror_mode": "shell",
   "file_extension": ".sh",
   "mimetype": "text/x-sh",
   "name": "bash"
  }
 },
 "nbformat": 4,
 "nbformat_minor": 5
}
