{
 "cells": [
  {
   "cell_type": "markdown",
   "id": "3b3fa61c-20f8-41a0-a85a-3bf3f3ef3f02",
   "metadata": {},
   "source": [
    "# Pelican CLI\n",
    "\n",
    "To install the Pelican CLI on your own device, follow the instructions at [docs.pelicanplatform.org/install](https://docs.pelicanplatform.org/install) for your operating system. If you are using a Linux operating system, you can quickly install the Pelican CLI following the [instructions here](https://docs.pelicanplatform.org/install/linux-binary).\n",
    "\n",
    "**The Guest OSPool Notebook comes with the Pelican CLI pre-installed!**\n",
    "\n",
    "Once installed, you can use the Pelican CLI by using the `pelican` noun-verb commands.\n",
    "For the requests listed above, you need to use the `object` noun.\n",
    "That is, the commands you'll be entering will take the form\n",
    "\n",
    "```\n",
    "pelican object <request> <additonal arguments>\n",
    "```\n",
    "\n",
    "where the `additional arguments` usually involves a Pelican URL.\n",
    "\n",
    "## Listing objects\n",
    "\n",
    "To list the objects accessible via a particular namespace, use the `ls` verb and provide the Pelican URL for the desired namespace:\n",
    "\n",
    "```\n",
    "pelican object ls <Pelican URL>\n",
    "```\n"
   ]
  },
  {
   "cell_type": "code",
   "execution_count": 1,
   "id": "def7b00d-5642-41f8-9f37-95d4d2ab6e55",
   "metadata": {},
   "outputs": [
    {
     "name": "stdout",
     "output_type": "stream",
     "text": [
      "hello-world.txt.md5          hello-world.txt          \n"
     ]
    }
   ],
   "source": [
    "pelican object ls osdf:///pelicanplatform/test"
   ]
  },
  {
   "cell_type": "markdown",
   "id": "cd326c26-4acf-4014-92df-365278ba57c0",
   "metadata": {},
   "source": [
    "For additional information, you include the `-l`/`--long` flag:"
   ]
  },
  {
   "cell_type": "code",
   "execution_count": 2,
   "id": "78dd8071-4de6-42d9-bd17-d13bc8b5b332",
   "metadata": {},
   "outputs": [
    {
     "name": "stdout",
     "output_type": "stream",
     "text": [
      "/pelicanplatform/test/hello-world.txt.md5          50          2025-01-21 20:59:49\n",
      "/pelicanplatform/test/hello-world.txt              76          2025-01-21 20:57:01\n"
     ]
    }
   ],
   "source": [
    "pelican object ls --long osdf:///pelicanplatform/test"
   ]
  },
  {
   "cell_type": "markdown",
   "id": "cd458a36-dfb0-47b1-8132-67de93ea45f2",
   "metadata": {},
   "source": [
    "## Getting objects\n",
    "\n",
    "To get an object using the Pelican CLI, you need to provide the Pelican URL for the desired object and the location/name of where to store the object locally:\n",
    "\n",
    "```\n",
    "pelican object get <Pelican URL> <local destination>\n",
    "```\n",
    "\n",
    "In the listing of the Pelican test namespace, we saw the object `hello-world.txt`. \n",
    "Let's download that object to the current directory:"
   ]
  },
  {
   "cell_type": "code",
   "execution_count": 3,
   "id": "e91cc71c-8cfc-4fa0-9949-8686c5f09d6b",
   "metadata": {},
   "outputs": [],
   "source": [
    "pelican object get osdf:///pelicanplatform/test/hello-world.txt ./hello-world.txt"
   ]
  },
  {
   "cell_type": "code",
   "execution_count": 4,
   "id": "0c9ab35d-40ce-4889-8026-e90cba73ac74",
   "metadata": {},
   "outputs": [
    {
     "name": "stdout",
     "output_type": "stream",
     "text": [
      "If you are seeing this message, getting an object from OSDF was successful.\n"
     ]
    }
   ],
   "source": [
    "cat hello-world.txt"
   ]
  },
  {
   "cell_type": "markdown",
   "id": "246ae7a7-66f6-428e-8a27-c31d0b03b0d2",
   "metadata": {},
   "source": [
    "### Getting objects recursively\n",
    "\n",
    "Pelican utilizes the URL query syntax in Pelican URLs to modify its behavior.\n",
    "For this case, you can use the `?recursive` query to tell Pelican to act recursively on the provided Pelican URL.\n",
    "For example,"
   ]
  },
  {
   "cell_type": "code",
   "execution_count": 5,
   "id": "7689e63a-63f7-43cf-8db9-b77425784604",
   "metadata": {},
   "outputs": [],
   "source": [
    "pelican object get osdf:///pelicanplatform/test?recursive ./"
   ]
  },
  {
   "cell_type": "code",
   "execution_count": 6,
   "id": "8835b74d-629b-4907-b320-72e91d9f50f1",
   "metadata": {},
   "outputs": [
    {
     "name": "stdout",
     "output_type": "stream",
     "text": [
      "hello-world.txt  hello-world.txt.md5\n"
     ]
    }
   ],
   "source": [
    "ls test"
   ]
  },
  {
   "cell_type": "markdown",
   "id": "eb911e80-7f5c-4ed9-a2c6-a325a0807a69",
   "metadata": {},
   "source": [
    "Another frequently used query is `?pack=auto`.\n",
    "When getting a compressed object, this query tells the Pelican Client to automatically decompress the object during download.\n",
    "Similarly, when uploading an object, the query tells the Pelican Client to automatically compress the object during upload.\n",
    "For more information on the queries that Pelican employs, see [this documentation page](https://docs.pelicanplatform.org/getting-data-with-pelican/client#utilizing-queries-with-your-url)."
   ]
  },
  {
   "cell_type": "markdown",
   "id": "079ce396-43b4-4e38-8bc7-0b8ed6e807d6",
   "metadata": {},
   "source": [
    "### [Optional] A peak behind the curtain\n",
    "\n",
    "If you want to see what that looks like in practice, you can run any of the above CLI commands with the `-d` or `--debug` flag.\n",
    "For example,"
   ]
  },
  {
   "cell_type": "code",
   "execution_count": 7,
   "id": "d6f67510-c5eb-4c52-b3c0-048bfb7e7353",
   "metadata": {
    "scrolled": true
   },
   "outputs": [
    {
     "name": "stdout",
     "output_type": "stream",
     "text": [
      "\u001b[33mWARNING\u001b[0m[2025-06-04T14:25:37Z] Debug is set as a flag or in config, this will override anything set for Logging.Level within your configuration \n",
      "================ Pelican Client Configuration ================\n",
      " {\n",
      "  \"client\": {\n",
      "    \"disablehttpproxy\": false,\n",
      "    \"disableproxyfallback\": false,\n",
      "    \"maximumdownloadspeed\": 0,\n",
      "    \"minimumdownloadspeed\": 102400,\n",
      "    \"slowtransferrampuptime\": 100000000000,\n",
      "    \"slowtransferwindow\": 30000000000,\n",
      "    \"stoppedtransfertimeout\": 100000000000,\n",
      "    \"workercount\": 5\n",
      "  },\n",
      "  \"configlocations\": null,\n",
      "  \"debug\": true,\n",
      "  \"disablehttpproxy\": false,\n",
      "  \"disableproxyfallback\": false,\n",
      "  \"federation\": {\n",
      "    \"directorurl\": \"\",\n",
      "    \"discoveryurl\": \"\",\n",
      "    \"jwkurl\": \"\",\n",
      "    \"registryurl\": \"\"\n",
      "  },\n",
      "  \"issuerkey\": \"/home/jovyan/.config/pelican/issuer.jwk\",\n",
      "  \"logging\": {\n",
      "    \"level\": \"Error\",\n",
      "    \"loglocation\": \"\"\n",
      "  },\n",
      "  \"minimumdownloadspeed\": 0,\n",
      "  \"server\": {\n",
      "    \"enablepprof\": false,\n",
      "    \"modules\": [],\n",
      "    \"uiloginratelimit\": 1,\n",
      "    \"webconfigfile\": \"\"\n",
      "  },\n",
      "  \"transport\": {\n",
      "    \"dialerkeepalive\": 30000000000,\n",
      "    \"dialertimeout\": 10000000000,\n",
      "    \"expectcontinuetimeout\": 1000000000,\n",
      "    \"idleconntimeout\": 90000000000,\n",
      "    \"maxidleconns\": 30,\n",
      "    \"responseheadertimeout\": 10000000000,\n",
      "    \"tlshandshaketimeout\": 15000000000\n",
      "  }\n",
      "} \n",
      " ============= End of Pelican Client Configuration ============\n",
      "\u001b[37mDEBUG\u001b[0m[2025-06-04T14:25:37Z] Launch progress bars display                 \n",
      "\u001b[37mDEBUG\u001b[0m[2025-06-04T14:25:37Z] Len of source: 2                             \n",
      "\u001b[37mDEBUG\u001b[0m[2025-06-04T14:25:37Z] Sources: [osdf:///pelicanplatform/test/hello-world.txt] \n",
      "\u001b[37mDEBUG\u001b[0m[2025-06-04T14:25:37Z] Destination: ./                              \n",
      "\u001b[37mDEBUG\u001b[0m[2025-06-04T14:25:37Z] Making new clients                           \n",
      "\u001b[37mDEBUG\u001b[0m[2025-06-04T14:25:37Z] Created new client 01973b55-545d-7b36-bc73-fe254e785cb6 \n",
      "\u001b[37mDEBUG\u001b[0m[2025-06-04T14:25:37Z] Performing federation service discovery for against https://osg-htc.org/.well-known/pelican-configuration \n",
      "\u001b[37mDEBUG\u001b[0m[2025-06-04T14:25:37Z] Federation service discovery resulted in director URL https://osdf-director.osg-htc.org \n",
      "\u001b[37mDEBUG\u001b[0m[2025-06-04T14:25:37Z] Federation service discovery resulted in registry URL https://osdf-registry.osg-htc.org \n",
      "\u001b[37mDEBUG\u001b[0m[2025-06-04T14:25:37Z] Federation service discovery resulted in JWKS URL https://osg-htc.org/osdf/public_signing_key.jwks \n",
      "\u001b[37mDEBUG\u001b[0m[2025-06-04T14:25:37Z] Federation service discovery resulted in broker URL  \n",
      "\u001b[37mDEBUG\u001b[0m[2025-06-04T14:25:37Z] Using cached federation info for https://osg-htc.org \n",
      "\u001b[37mDEBUG\u001b[0m[2025-06-04T14:25:37Z] Will query director at https://osdf-director.osg-htc.org for object /pelicanplatform/test/hello-world.txt \n",
      "\u001b[37mDEBUG\u001b[0m[2025-06-04T14:25:37Z] Namespace path constructed from Director: /pelicanplatform \n",
      "\u001b[37mDEBUG\u001b[0m[2025-06-04T14:25:37Z] Created new transfer job, ID 01973b55-545d-7c8c-80c6-0230ab62a384 client 01973b55-545d-7b36-bc73-fe254e785cb6, for URL osdf:///pelicanplatform/test/hello-world.txt \n",
      "\u001b[37mDEBUG\u001b[0m[2025-06-04T14:25:37Z] Submiting transfer job 01973b55-545d-7c8c-80c6-0230ab62a384 \n",
      "\u001b[37mDEBUG\u001b[0m[2025-06-04T14:25:37Z] Closing transfer client 01973b55-545d-7b36-bc73-fe254e785cb6 \n",
      "\u001b[37mDEBUG\u001b[0m[2025-06-04T14:25:37Z] Processing transfer job for URL osdf:///pelicanplatform/test/hello-world.txt \n",
      "\u001b[37mDEBUG\u001b[0m[2025-06-04T14:25:37Z] Using the returned sources from the director \n",
      "\u001b[37mDEBUG\u001b[0m[2025-06-04T14:25:37Z] Matched object servers: https://osdf-uw-cache.svc.osg-htc.org:8443, https://osdf1.chic.nrp.internet2.edu:8443, https://dtn-pas.kans.nrp.internet2.edu:8443, https://unl-cache.nationalresearchplatform.org:8443, https://dtn-pas.denv.nrp.internet2.edu:8443, https://osg-houston-stashcache.nrp.internet2.edu:8443 \n",
      "\u001b[37mDEBUG\u001b[0m[2025-06-04T14:25:37Z] Trying the first 3 object servers            \n",
      "\u001b[37mDEBUG\u001b[0m[2025-06-04T14:25:37Z] Trying the object servers: [https://osdf-uw-cache.svc.osg-htc.org:8443/pelicanplatform/test/hello-world.txt https://osdf1.chic.nrp.internet2.edu:8443/pelicanplatform/test/hello-world.txt https://dtn-pas.kans.nrp.internet2.edu:8443/pelicanplatform/test/hello-world.txt] \n",
      "\u001b[37mDEBUG\u001b[0m[2025-06-04T14:25:37Z] Downloading object from osdf:///pelicanplatform/test/hello-world.txt to /home/jovyan/hello-world.txt \n",
      "\u001b[37mDEBUG\u001b[0m[2025-06-04T14:25:37Z] Will query the following endpoints for availability: osdf-uw-cache.svc.osg-htc.org:8443, osdf1.chic.nrp.internet2.edu:8443, dtn-pas.kans.nrp.internet2.edu:8443 \n",
      "\u001b[37mDEBUG\u001b[0m[2025-06-04T14:25:38Z] Timed out when querying to see if https://osdf-uw-cache.svc.osg-htc.org:8443/pelicanplatform/test/hello-world.txt is functioning \n",
      "\u001b[37mDEBUG\u001b[0m[2025-06-04T14:25:38Z] Attempting to download from: osdf1.chic.nrp.internet2.edu:8443  \u001b[37mjob\u001b[0m=01973b55-545d-7c8c-80c6-0230ab62a384 \u001b[37murl\u001b[0m=\"https://osdf1.chic.nrp.internet2.edu:8443/pelicanplatform/test/hello-world.txt\"\n",
      "\u001b[37mDEBUG\u001b[0m[2025-06-04T14:25:38Z] Transfer URL String: https://osdf1.chic.nrp.internet2.edu:8443/pelicanplatform/test/hello-world.txt  \u001b[37mjob\u001b[0m=01973b55-545d-7c8c-80c6-0230ab62a384 \u001b[37murl\u001b[0m=\"https://osdf1.chic.nrp.internet2.edu:8443/pelicanplatform/test/hello-world.txt\"\n",
      "\u001b[37mDEBUG\u001b[0m[2025-06-04T14:25:38Z] Starting the HTTP transfer...                 \u001b[37mjob\u001b[0m=01973b55-545d-7c8c-80c6-0230ab62a384 \u001b[37murl\u001b[0m=\"https://osdf1.chic.nrp.internet2.edu:8443/pelicanplatform/test/hello-world.txt\"\n",
      "\u001b[37mDEBUG\u001b[0m[2025-06-04T14:25:38Z] Server at osdf1.chic.nrp.internet2.edu:8443 had a cache hit with data age 162h53m33s  \u001b[37mjob\u001b[0m=01973b55-545d-7c8c-80c6-0230ab62a384 \u001b[37murl\u001b[0m=\"https://osdf1.chic.nrp.internet2.edu:8443/pelicanplatform/test/hello-world.txt\"\n",
      "\u001b[37mDEBUG\u001b[0m[2025-06-04T14:25:38Z] Stopped transfer timeout is 1m40s; slow transfer ramp-up is 1m40s; slow transfer look-back window is 30s  \u001b[37mjob\u001b[0m=01973b55-545d-7c8c-80c6-0230ab62a384 \u001b[37murl\u001b[0m=\"https://osdf1.chic.nrp.internet2.edu:8443/pelicanplatform/test/hello-world.txt\"\n",
      "\u001b[37mDEBUG\u001b[0m[2025-06-04T14:25:38Z] HTTP Transfer was successful                  \u001b[37mjob\u001b[0m=01973b55-545d-7c8c-80c6-0230ab62a384 \u001b[37murl\u001b[0m=\"https://osdf1.chic.nrp.internet2.edu:8443/pelicanplatform/test/hello-world.txt\"\n",
      "\u001b[37mDEBUG\u001b[0m[2025-06-04T14:25:38Z] Downloaded bytes: 76                          \u001b[37mjob\u001b[0m=01973b55-545d-7c8c-80c6-0230ab62a384 \u001b[37murl\u001b[0m=\"https://osdf1.chic.nrp.internet2.edu:8443/pelicanplatform/test/hello-world.txt\"\n",
      "\u001b[37mDEBUG\u001b[0m[2025-06-04T14:25:38Z] Job 01973b55-545d-7c8c-80c6-0230ab62a384 is done for client 01973b55-545d-7b36-bc73-fe254e785cb6 which has no active jobs remaining \n",
      "\u001b[37mDEBUG\u001b[0m[2025-06-04T14:25:38Z] Client 01973b55-545d-7b36-bc73-fe254e785cb6 has no more work and is finished shutting down \n",
      "\u001b[37mDEBUG\u001b[0m[2025-06-04T14:25:38Z] Shutting down transfer engine                \n",
      "\u001b[37mDEBUG\u001b[0m[2025-06-04T14:25:38Z] Job handler has been shutdown                \n"
     ]
    }
   ],
   "source": [
    "pelican object get --debug osdf:///pelicanplatform/test/hello-world.txt ./"
   ]
  },
  {
   "cell_type": "markdown",
   "id": "f8e9119f-c23f-4ea9-b2f2-6b1919457198",
   "metadata": {},
   "source": [
    "For insight into the HTTP queries being made by the Client, see [the FAQ page](https://docs.pelicanplatform.org/faq#how-can-i-tell-what-services-my-pelican-client-will-talk-to-before-i-try-to-getput-objects). "
   ]
  }
 ],
 "metadata": {
  "kernelspec": {
   "display_name": "Bash [conda env:base] *",
   "language": "bash",
   "name": "conda-base-bash"
  },
  "language_info": {
   "codemirror_mode": "shell",
   "file_extension": ".sh",
   "mimetype": "text/x-sh",
   "name": "bash"
  }
 },
 "nbformat": 4,
 "nbformat_minor": 5
}
